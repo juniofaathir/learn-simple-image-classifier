{
  "nbformat": 4,
  "nbformat_minor": 0,
  "metadata": {
    "colab": {
      "provenance": []
    },
    "kernelspec": {
      "name": "python3",
      "display_name": "Python 3"
    },
    "language_info": {
      "name": "python"
    }
  },
  "cells": [
    {
      "cell_type": "code",
      "source": [
        "import tensorflow as tf\n",
        "from tensorflow.keras.preprocessing import image\n",
        "import numpy as np"
      ],
      "metadata": {
        "id": "-HBT8kPR3yy9"
      },
      "execution_count": 1,
      "outputs": []
    },
    {
      "cell_type": "code",
      "source": [
        "# Mount Google Drive\n",
        "from google.colab import drive\n",
        "drive.mount('/content/drive')\n",
        "\n",
        "# Load the saved model\n",
        "model = tf.keras.models.load_model('/content/drive/MyDrive/detector-model.h5')"
      ],
      "metadata": {
        "colab": {
          "base_uri": "https://localhost:8080/"
        },
        "id": "D83TiGOK3y1t",
        "outputId": "ee3c876d-f430-4010-bc8d-3dafb429f339"
      },
      "execution_count": 2,
      "outputs": [
        {
          "output_type": "stream",
          "name": "stdout",
          "text": [
            "Mounted at /content/drive\n"
          ]
        }
      ]
    },
    {
      "cell_type": "code",
      "source": [
        "class_names = ['non-batagor', 'batagor']\n",
        "\n",
        "def predict_image(image_path):\n",
        "    img = image.load_img(image_path, target_size=(256, 256))\n",
        "    img = image.img_to_array(img)\n",
        "    img = np.expand_dims(img, axis=0)\n",
        "    img /= 255.\n",
        "\n",
        "    prediction = model.predict(img)\n",
        "    predicted_class = np.argmax(prediction[0])\n",
        "    class_label = class_names[predicted_class]\n",
        "    confidence = prediction[0][predicted_class] * 100\n",
        "\n",
        "    print(\"Predicted class:\", class_label)\n",
        "    print(\"Confidence: {:.3f} %\\n\\n\".format(confidence))\n",
        "    if class_label == \"non-batagor\":\n",
        "      if confidence < 26:\n",
        "        print(\"Batagor\")\n",
        "      else:\n",
        "        print(\"Bukan Batagor\")\n",
        "    elif class_label == \"batagor\":\n",
        "      if confidence > 26:\n",
        "        print(\"Bukan Batagor\")\n",
        "      else:\n",
        "        print(\"Batagor\")"
      ],
      "metadata": {
        "id": "Dcs-KvbE3y4S"
      },
      "execution_count": 26,
      "outputs": []
    },
    {
      "cell_type": "code",
      "source": [
        "# Path gambar yang ingin diprediksi\n",
        "image_path = \"/content/batagor-udang.jpg\"\n",
        "\n",
        "# Melakukan prediksi pada gambar\n",
        "prediction_result = predict_image(image_path)\n",
        "\n",
        "# Menampilkan hasil prediksi\n",
        "# print(prediction_result)"
      ],
      "metadata": {
        "colab": {
          "base_uri": "https://localhost:8080/"
        },
        "id": "_dzoaKGCHOW3",
        "outputId": "c94581dd-a042-47a3-92d1-db7b3dc651ce"
      },
      "execution_count": 28,
      "outputs": [
        {
          "output_type": "stream",
          "name": "stdout",
          "text": [
            "1/1 [==============================] - 0s 39ms/step\n",
            "Predicted class: non-batagor\n",
            "Confidence: 25.092 %\n",
            "\n",
            "\n",
            "Batagor\n"
          ]
        }
      ]
    }
  ]
}